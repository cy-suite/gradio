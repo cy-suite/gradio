{
 "cells": [
  {
   "cell_type": "markdown",
   "id": "6ae97474",
   "metadata": {},
   "source": [
    "# Gradio Demo: calculator_list_and_dict"
   ]
  },
  {
   "cell_type": "code",
   "execution_count": null,
   "id": "80ac121d",
   "metadata": {},
   "outputs": [],
   "source": [
    "!pip install -q gradio "
   ]
  },
  {
   "cell_type": "code",
   "execution_count": 1,
   "id": "8cc054ef",
   "metadata": {},
   "outputs": [
    {
     "name": "stdout",
     "output_type": "stream",
     "text": [
      "Running on local URL:  http://127.0.0.1:7862\n",
      "\n",
      "To create a public link, set `share=True` in `launch()`.\n"
     ]
    },
    {
     "data": {
      "text/html": [
       "<div><iframe src=\"http://127.0.0.1:7862/\" width=\"100%\" height=\"500\" allow=\"autoplay; camera; microphone; clipboard-read; clipboard-write;\" frameborder=\"0\" allowfullscreen></iframe></div>"
      ],
      "text/plain": [
       "<IPython.core.display.HTML object>"
      ]
     },
     "metadata": {},
     "output_type": "display_data"
    },
    {
     "name": "stdout",
     "output_type": "stream",
     "text": [
      "predict session_hash='5ogwosr0e2h' event_id=None data=[12, 3] event_data=None fn_index=2 batched=False request=None\n",
      "run_predict raw_input [12, 3]\n",
      "run_predict raw_input [12, 3]\n",
      "process_api 2 [12, 3] {} <gradio.routes.Request object at 0x13eb7c790> {'should_reset': set()} None <gradio.helpers.EventData object at 0x13eb7cc40>\n",
      "inputs [12.0, 3.0]\n",
      "[12.0, 3.0]\n",
      "{'a': number, 'b': number}\n",
      "<class 'dict'>\n",
      "[{'a': 12.0, 'b': 3.0}]\n"
     ]
    },
    {
     "name": "stderr",
     "output_type": "stream",
     "text": [
      "Traceback (most recent call last):\n",
      "  File \"/Users/jon/repos/github.com/jrhe/gradio/gradio/routes.py\", line 397, in run_predict\n",
      "    output = await app.get_blocks().process_api(\n",
      "  File \"/Users/jon/repos/github.com/jrhe/gradio/gradio/blocks.py\", line 1126, in process_api\n",
      "    result = await self.call_function(\n",
      "  File \"/Users/jon/repos/github.com/jrhe/gradio/gradio/blocks.py\", line 933, in call_function\n",
      "    prediction = await anyio.to_thread.run_sync(*call_args, limiter=self.limiter)\n",
      "  File \"/Users/jon/.pyenv/versions/3.9.16/lib/python3.9/site-packages/anyio/to_thread.py\", line 31, in run_sync\n",
      "    return await get_asynclib().run_sync_in_worker_thread(\n",
      "  File \"/Users/jon/.pyenv/versions/3.9.16/lib/python3.9/site-packages/anyio/_backends/_asyncio.py\", line 937, in run_sync_in_worker_thread\n",
      "    return await future\n",
      "  File \"/Users/jon/.pyenv/versions/3.9.16/lib/python3.9/site-packages/anyio/_backends/_asyncio.py\", line 867, in run\n",
      "    result = context.run(func, *args)\n",
      "  File \"/var/folders/g7/h9hst8551g74rd1jsf7txvj40000gn/T/ipykernel_87785/2341627224.py\", line 18, in sub\n",
      "    return data[a] - data[b]\n",
      "KeyError: number\n"
     ]
    }
   ],
   "source": [
    "import gradio as gr\n",
    "\n",
    "with gr.Blocks() as demo:\n",
    "    a = gr.Number(label=\"a\")\n",
    "    b = gr.Number(label=\"b\")\n",
    "    with gr.Row():\n",
    "        add_btn = gr.Button(\"Add\")\n",
    "        sub_btn = gr.Button(\"Subtract\")\n",
    "        mul_btn = gr.Button(\"Multiply\")\n",
    "        div_btn = gr.Button(\"Divide\")\n",
    "    c = gr.Number(label=\"sum\")\n",
    "\n",
    "    def add(num1, num2):\n",
    "        return num1 + num2\n",
    "    add_btn.click(add, inputs=[a, b], outputs=c)\n",
    "\n",
    "    def sub(data):\n",
    "        return data[a] - data[b]\n",
    "    sub_btn.click(sub, inputs={a, b}, outputs=c)\n",
    "\n",
    "    def mul(*, a, b):\n",
    "        return a * b\n",
    "    mul_btn.click(sub, inputs={\"a\": a, \"b\": b}, outputs=c)\n",
    "\n",
    "    def div(**data):\n",
    "        return data['a'] / data['b']\n",
    "    sub_btn.click(sub, inputs={a, b}, outputs=c)\n",
    "\n",
    "\n",
    "if __name__ == \"__main__\":\n",
    "    demo.launch()"
   ]
  },
  {
   "cell_type": "code",
   "execution_count": null,
   "id": "cb5eaa30",
   "metadata": {},
   "outputs": [],
   "source": []
  }
 ],
 "metadata": {
  "kernelspec": {
   "display_name": "Python 3 (ipykernel)",
   "language": "python",
   "name": "python3"
  },
  "language_info": {
   "codemirror_mode": {
    "name": "ipython",
    "version": 3
   },
   "file_extension": ".py",
   "mimetype": "text/x-python",
   "name": "python",
   "nbconvert_exporter": "python",
   "pygments_lexer": "ipython3",
   "version": "3.11.2"
  }
 },
 "nbformat": 4,
 "nbformat_minor": 5
}
