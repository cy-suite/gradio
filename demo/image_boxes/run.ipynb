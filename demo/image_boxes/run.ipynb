{
 "cells": [
  {
   "cell_type": "markdown",
   "source": [
    "# Gradio Demo: image_boxes\n",
    "### Simple example to show how to use the bounding boxes tool for Image Input.\n"
   ],
   "metadata": {
    "collapsed": false
   }
  },
  {
   "cell_type": "code",
   "execution_count": null,
   "outputs": [],
   "source": [
    "import gradio as gr\n",
    "\n",
    "\n",
    "def predict(inp):\n",
    "    image = inp['image']\n",
    "    boxes = inp['mask']\n",
    "\n",
    "    sub_images = []\n",
    "    for box in boxes:\n",
    "        sub_images.append(image.crop(box))\n",
    "    return sub_images\n",
    "\n",
    "\n",
    "demo = gr.Interface(fn=predict,\n",
    "                    inputs=gr.Image(tool=\"boxes\", type=\"pil\"),\n",
    "                    outputs=gr.Gallery())\n",
    "\n",
    "demo.launch()"
   ],
   "metadata": {
    "collapsed": false
   }
  }
 ],
 "metadata": {
  "kernelspec": {
   "display_name": "Python 3",
   "language": "python",
   "name": "python3"
  },
  "language_info": {
   "codemirror_mode": {
    "name": "ipython",
    "version": 2
   },
   "file_extension": ".py",
   "mimetype": "text/x-python",
   "name": "python",
   "nbconvert_exporter": "python",
   "pygments_lexer": "ipython2",
   "version": "2.7.6"
  }
 },
 "nbformat": 4,
 "nbformat_minor": 0
}
