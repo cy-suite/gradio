{
  "nbformat": 4,
  "nbformat_minor": 0,
  "metadata": {
    "colab": {
      "provenance": [],
      "authorship_tag": "ABX9TyO2/lf1sX7XxvLak5lTuUi4"
    },
    "kernelspec": {
      "name": "python3",
      "display_name": "Python 3"
    },
    "language_info": {
      "name": "python"
    }
  },
  "cells": [
    {
      "cell_type": "code",
      "execution_count": null,
      "metadata": {
        "id": "AfzHwbbA8BOg"
      },
      "outputs": [],
      "source": [
        "!pip install -q git+https://github.com/meg-huggingface/gradio"
      ]
    },
    {
      "cell_type": "code",
      "source": [
        "# Downloading files from the demo repo\n",
        "import os\n",
        "os.mkdir('files')\n",
        "!wget -q -O files/a.mp4 https://github.com/meg-huggingface/gradio/raw/main/demo/video_watermark/files/a.mp4\n",
        "!wget -q -O files/b.mp4 https://github.com/meg-huggingface/gradio/raw/main/demo/video_watermark/files/b.mp4\n",
        "!wget -q -O files/w1.jpg https://github.com/meg-huggingface/gradio/raw/main/demo/video_watermark/files/w1.jpg\n",
        "!wget -q -O files/w2.png https://github.com/meg-huggingface/gradio/raw/main/demo/video_watermark/files/w2.png"
      ],
      "metadata": {
        "id": "lQap_-1V8Krg"
      },
      "execution_count": null,
      "outputs": []
    },
    {
      "cell_type": "code",
      "source": [
        "import gradio as gr\n",
        "import os\n",
        "\n",
        "a = os.path.join(os.path.abspath(''), \"files/a.mp4\")  # Video\n",
        "b = os.path.join(os.path.abspath(''), \"files/b.mp4\")  # Video\n",
        "w1 = os.path.join(os.path.abspath(''), \"files/w1.jpg\")  # Watermark\n",
        "w2 = os.path.join(os.path.abspath(''), \"files/w2.png\")  # Watermark\n",
        "\n",
        "def generate_video(original_video, watermark_file):\n",
        "    return gr.Video(a, watermark_file=watermark_file)\n",
        "\n",
        "demo = gr.Interface(generate_video, [gr.Textbox(), gr.File()], gr.Video(),\n",
        "                    examples=[[a, w1], [b, w2]])\n",
        "\n",
        "if __name__ == \"__main__\":\n",
        "    demo.launch()\n"
      ],
      "metadata": {
        "id": "vEEJAw5w8XJq"
      },
      "execution_count": null,
      "outputs": []
    }
  ]
}