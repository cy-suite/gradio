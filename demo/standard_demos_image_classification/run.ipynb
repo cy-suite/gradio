{
  "cells": [
    {
      "cell_type": "markdown",
      "id": 3.0293430767166755e+38,
      "metadata": {
        "id": 3.0293430767166755e+38
      },
      "source": [
        "# Gradio Demo: standard_demos_image_classification"
      ]
    },
    {
      "cell_type": "code",
      "execution_count": null,
      "id": 2.7299665331067346e+38,
      "metadata": {
        "id": 2.7299665331067346e+38
      },
      "outputs": [],
      "source": [
        "!pip install -q gradio "
      ]
    },
    {
      "cell_type": "code",
      "execution_count": null,
      "id": 2.8891853944186117e+38,
      "metadata": {
        "id": 2.8891853944186117e+38
      },
      "outputs": [],
      "source": [
        "import gradio as gr \n",
        "\n",
        "demo = gr.Interface.load(\n",
        "             \"huggingface/facebook/deit-base-distilled-patch16-224\",  \n",
        "             inputs = \"image\",\n",
        "             outputs = \"label\",\n",
        "             title=\"Standard demos- With input and output\")\n",
        "\n",
        "if __name__ == \"__main__\":\n",
        "    demo.launch()"
      ]
    }
  ],
  "metadata": {
    "colab": {
      "provenance": []
    }
  },
  "nbformat": 4,
  "nbformat_minor": 5
}